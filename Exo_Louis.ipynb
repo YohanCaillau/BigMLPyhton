{
 "cells": [
  {
   "cell_type": "markdown",
   "metadata": {},
   "source": [
    "## Exercice individuel: création de prédiction sur un seul input"
   ]
  },
  {
   "cell_type": "markdown",
   "metadata": {},
   "source": [
    "Importer les données"
   ]
  },
  {
   "cell_type": "code",
   "execution_count": null,
   "metadata": {},
   "outputs": [],
   "source": [
    "from pandas import read_csv\n",
    "import pandas as pd"
   ]
  },
  {
   "cell_type": "code",
   "execution_count": null,
   "metadata": {},
   "outputs": [],
   "source": [
    "df1 = pd.DataFrame(columns = [\n",
    " 'Id',\n",
    " 'RevolvingUtilizationOfUnsecuredLines',\n",
    " 'age',\n",
    " 'NumberOfTime30-59DaysPastDueNotWorse',\n",
    " 'DebtRatio',\n",
    " 'MonthlyIncome',\n",
    " 'NumberOfOpenCreditLinesAndLoans',\n",
    " 'NumberOfTimes90DaysLate',\n",
    " 'NumberRealEstateLoansOrLines',\n",
    " 'NumberOfTime60-89DaysPastDueNotWorse',\n",
    " 'NumberOfDependents', 'SeriousDlqin2yrs'])"
   ]
  },
  {
   "cell_type": "code",
   "execution_count": null,
   "metadata": {},
   "outputs": [],
   "source": [
    "data = { 'Id': [1],\n",
    "         'RevolvingUtilizationOfUnsecuredLines': [0.01703559], \n",
    "         'age': [42], \n",
    "         'NumberOfTime30-59DaysPastDueNotWorse': [1], \n",
    "         'DebtRatio': [0], \n",
    "         'NumberOfOpenCreditLinesAndLoans': [6], \n",
    "         'NumberOfTimes90DaysLate': [0], \n",
    "         'NumberRealEstateLoansOrLines': [1], \n",
    "         'NumberOfTime60-89DaysPastDueNotWorse': [0], \n",
    "         'NumberOfDependents': [1],\n",
    "       }\n",
    "df2 = pd.DataFrame.from_dict(data)\n",
    "df2"
   ]
  },
  {
   "cell_type": "code",
   "execution_count": null,
   "metadata": {},
   "outputs": [],
   "source": [
    "df_test = pd.concat([df1, df2], sort = False)\n",
    "df_test"
   ]
  },
  {
   "cell_type": "code",
   "execution_count": null,
   "metadata": {},
   "outputs": [],
   "source": [
    "#!pip install ipynb"
   ]
  },
  {
   "cell_type": "code",
   "execution_count": null,
   "metadata": {},
   "outputs": [],
   "source": [
    "import ipynb.fs \n",
    "# Do a definitions-only import\n",
    "from ipynb.fs.defs.GiveMeSomeCredit_Préparationdonnées import table_filling\n",
    "df_final = table_filling(df_test)\n",
    "df_final"
   ]
  },
  {
   "cell_type": "code",
   "execution_count": null,
   "metadata": {},
   "outputs": [],
   "source": [
    "target_column = 'SeriousDlqin2yrs'\n",
    "X_test = df_final.drop(target_column, axis=1).values\n",
    "y_test = df_final[target_column].values\n",
    "print(X_test)"
   ]
  },
  {
   "cell_type": "code",
   "execution_count": null,
   "metadata": {},
   "outputs": [],
   "source": [
    "import pickle\n",
    "from xgboost import XGBClassifier\n",
    "filename = 'finalized_model.sav'\n",
    "loaded_model = pickle.load(open(filename, 'rb')) # Récupérer le modèle entrainé\n",
    "result = loaded_model.predict(X_test)\n",
    "print(\"La prediction du modèle est: \", result[0])\n",
    "y_test_proba = loaded_model.predict_proba(X_test)[:,1]\n",
    "print(\"La probabilité de défaut de paiement est de: \", y_test_proba[0]*100, \"%\")"
   ]
  }
 ],
 "metadata": {
  "kernelspec": {
   "display_name": "Python 3",
   "language": "python",
   "name": "python3"
  },
  "language_info": {
   "codemirror_mode": {
    "name": "ipython",
    "version": 3
   },
   "file_extension": ".py",
   "mimetype": "text/x-python",
   "name": "python",
   "nbconvert_exporter": "python",
   "pygments_lexer": "ipython3",
   "version": "3.7.3"
  }
 },
 "nbformat": 4,
 "nbformat_minor": 2
}
